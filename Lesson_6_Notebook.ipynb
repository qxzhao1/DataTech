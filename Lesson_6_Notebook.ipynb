{
 "cells": [
  {
   "cell_type": "markdown",
   "metadata": {},
   "source": [
    "## Reading data\n",
    "\n",
    "You can find the data here: <a href=\"https://catalog.data.gov/dataset/eia-annual-energy-outlook-for-2011-all-tables-de75e\">data.gov</a><br>\n",
    "This lecture is based on <a href=\"https://docs.python.org/2/tutorial/inputoutput.html\">the python tutorial I/O</a>"
   ]
  },
  {
   "cell_type": "markdown",
   "metadata": {},
   "source": [
    "Let's start by looking at the file.  Notice that there are several lines that separate different tables, that there are quotes surrounding strings, and it is comma delimited."
   ]
  },
  {
   "cell_type": "code",
   "execution_count": 20,
   "metadata": {},
   "outputs": [
    {
     "name": "stderr",
     "output_type": "stream",
     "text": [
      "'head' is not recognized as an internal or external command,\n",
      "operable program or batch file.\n"
     ]
    }
   ],
   "source": [
    "!head data/1-AEO2011.csv"
   ]
  },
  {
   "cell_type": "markdown",
   "metadata": {},
   "source": [
    "Let's start by using read and readline.  If we want to separate the line into different elements, then we need to do this manually with split and strip."
   ]
  },
  {
   "cell_type": "code",
   "execution_count": 21,
   "metadata": {},
   "outputs": [
    {
     "name": "stdout",
     "output_type": "stream",
     "text": [
      "1-AEO2011,,\"Case\",\"Region\",\"Row\",\"Quantity\",\"Units (unless otherwise specified)\",2008,2009,2010,2011\n"
     ]
    }
   ],
   "source": [
    "with open('data/1-AEO2011.csv','r') as govdat:\n",
    "    print(govdat.read()[0:100])"
   ]
  },
  {
   "cell_type": "code",
   "execution_count": 22,
   "metadata": {},
   "outputs": [
    {
     "data": {
      "text/plain": [
       "['1-AEO2011',\n",
       " '',\n",
       " 'Case',\n",
       " 'Region',\n",
       " 'Row',\n",
       " 'Quantity',\n",
       " 'Units (unless otherwise specified)',\n",
       " '2008',\n",
       " '2009',\n",
       " '2010',\n",
       " '2011',\n",
       " '2012',\n",
       " '2013',\n",
       " '2014',\n",
       " '2015',\n",
       " '2016',\n",
       " '2017',\n",
       " '2018',\n",
       " '2019',\n",
       " '2020',\n",
       " '2021',\n",
       " '2022',\n",
       " '2023',\n",
       " '2024',\n",
       " '2025',\n",
       " '2026',\n",
       " '2027',\n",
       " '2028',\n",
       " '2029',\n",
       " '2030',\n",
       " '2031',\n",
       " '2032',\n",
       " '2033',\n",
       " '2034',\n",
       " '2035']"
      ]
     },
     "execution_count": 22,
     "metadata": {},
     "output_type": "execute_result"
    }
   ],
   "source": [
    "with open('data/1-AEO2011.csv','r') as govdat:\n",
    "    govhead = govdat.readline()\n",
    "header"
   ]
  },
  {
   "cell_type": "code",
   "execution_count": 23,
   "metadata": {},
   "outputs": [
    {
     "data": {
      "text/plain": [
       "['1-AEO2011',\n",
       " '',\n",
       " 'Case',\n",
       " 'Region',\n",
       " 'Row',\n",
       " 'Quantity',\n",
       " 'Units (unless otherwise specified)',\n",
       " '2008',\n",
       " '2009',\n",
       " '2010',\n",
       " '2011',\n",
       " '2012',\n",
       " '2013',\n",
       " '2014',\n",
       " '2015',\n",
       " '2016',\n",
       " '2017',\n",
       " '2018',\n",
       " '2019',\n",
       " '2020',\n",
       " '2021',\n",
       " '2022',\n",
       " '2023',\n",
       " '2024',\n",
       " '2025',\n",
       " '2026',\n",
       " '2027',\n",
       " '2028',\n",
       " '2029',\n",
       " '2030',\n",
       " '2031',\n",
       " '2032',\n",
       " '2033',\n",
       " '2034',\n",
       " '2035']"
      ]
     },
     "execution_count": 23,
     "metadata": {},
     "output_type": "execute_result"
    }
   ],
   "source": [
    "header = [name.strip('\"\\n') for name in govhead.split(',')]\n",
    "header"
   ]
  },
  {
   "cell_type": "code",
   "execution_count": 24,
   "metadata": {},
   "outputs": [
    {
     "data": {
      "text/plain": [
       "['1-AEO2011',\n",
       " '',\n",
       " 'Case',\n",
       " 'Region',\n",
       " 'Row',\n",
       " 'Quantity',\n",
       " 'Units (unless otherwise specified)',\n",
       " '2008',\n",
       " '2009',\n",
       " '2010']"
      ]
     },
     "execution_count": 24,
     "metadata": {},
     "output_type": "execute_result"
    }
   ],
   "source": [
    "header[0:10]"
   ]
  },
  {
   "cell_type": "markdown",
   "metadata": {},
   "source": [
    "<h2>CSV package</h2>\n",
    "\n",
    "<a href=\"https://docs.python.org/2/library/csv.html\">CSV package documentation</a>\n",
    "\n",
    "The csv reader pretty much just automates the removal of quotes and the split."
   ]
  },
  {
   "cell_type": "code",
   "execution_count": 25,
   "metadata": {
    "collapsed": true
   },
   "outputs": [],
   "source": [
    "import csv"
   ]
  },
  {
   "cell_type": "code",
   "execution_count": 26,
   "metadata": {},
   "outputs": [
    {
     "data": {
      "text/plain": [
       "<_csv.reader at 0x27c80ff7d48>"
      ]
     },
     "execution_count": 26,
     "metadata": {},
     "output_type": "execute_result"
    }
   ],
   "source": [
    "govf = open('data/1-AEO2011.csv','r')\n",
    "fcsv = csv.reader(govf,delimiter=',',quotechar='\"')\n",
    "fcsv"
   ]
  },
  {
   "cell_type": "code",
   "execution_count": 27,
   "metadata": {},
   "outputs": [
    {
     "data": {
      "text/plain": [
       "['1-AEO2011',\n",
       " '',\n",
       " 'Case',\n",
       " 'Region',\n",
       " 'Row',\n",
       " 'Quantity',\n",
       " 'Units (unless otherwise specified)',\n",
       " '2008',\n",
       " '2009',\n",
       " '2010',\n",
       " '2011',\n",
       " '2012',\n",
       " '2013',\n",
       " '2014',\n",
       " '2015',\n",
       " '2016',\n",
       " '2017',\n",
       " '2018',\n",
       " '2019',\n",
       " '2020',\n",
       " '2021',\n",
       " '2022',\n",
       " '2023',\n",
       " '2024',\n",
       " '2025',\n",
       " '2026',\n",
       " '2027',\n",
       " '2028',\n",
       " '2029',\n",
       " '2030',\n",
       " '2031',\n",
       " '2032',\n",
       " '2033',\n",
       " '2034',\n",
       " '2035']"
      ]
     },
     "execution_count": 27,
     "metadata": {},
     "output_type": "execute_result"
    }
   ],
   "source": [
    "header = next(fcsv)\n",
    "header"
   ]
  },
  {
   "cell_type": "code",
   "execution_count": 28,
   "metadata": {
    "collapsed": true
   },
   "outputs": [],
   "source": [
    "## Detect when the new table begins, and append the data to a list of tables\n",
    "all_tables = []\n",
    "econtable = []\n",
    "table_names = []\n",
    "for l in fcsv:\n",
    "    if \"Table\" in l[0]:\n",
    "        if econtable:  #strange - test the length\n",
    "            all_tables.append(econtable)\n",
    "        table_names.append(l[-2])\n",
    "        econtable = []\n",
    "    if len(l) > 7:\n",
    "        econtable.append([x.strip() for x in l[2:7]] + [float(x.strip()) for x in l[7:]])\n",
    "all_tables.append(econtable)    "
   ]
  },
  {
   "cell_type": "code",
   "execution_count": 29,
   "metadata": {},
   "outputs": [
    {
     "name": "stdout",
     "output_type": "stream",
     "text": [
      "True\n"
     ]
    }
   ],
   "source": [
    "if [1,2]:\n",
    "    print(True)"
   ]
  },
  {
   "cell_type": "code",
   "execution_count": 30,
   "metadata": {
    "collapsed": true
   },
   "outputs": [],
   "source": [
    "govf.close()"
   ]
  },
  {
   "cell_type": "code",
   "execution_count": 31,
   "metadata": {},
   "outputs": [
    {
     "data": {
      "text/plain": [
       "['Total Energy Supply, Disposition, and Price Summary, Reference case',\n",
       " 'Total Energy Supply, Disposition, and Price Summary, High economic growth',\n",
       " 'Total Energy Supply, Disposition, and Price Summary, Low economic growth',\n",
       " 'Total Energy Supply, Disposition, and Price Summary, High oil price',\n",
       " 'Total Energy Supply, Disposition, and Price Summary, Low oil price']"
      ]
     },
     "execution_count": 31,
     "metadata": {},
     "output_type": "execute_result"
    }
   ],
   "source": [
    "table_names"
   ]
  },
  {
   "cell_type": "code",
   "execution_count": 32,
   "metadata": {},
   "outputs": [
    {
     "data": {
      "text/plain": [
       "5"
      ]
     },
     "execution_count": 32,
     "metadata": {},
     "output_type": "execute_result"
    }
   ],
   "source": [
    "len(all_tables)"
   ]
  },
  {
   "cell_type": "markdown",
   "metadata": {},
   "source": [
    "<h2>Pandas</h2>\n",
    "\n",
    "<a href=\"http://pandas.pydata.org/pandas-docs/stable/io.html\">Pandas I/O documentation</a>\n",
    "\n",
    "Pandas can expedite this process since it will read the data directly into a Pandas dataframe."
   ]
  },
  {
   "cell_type": "code",
   "execution_count": 33,
   "metadata": {
    "scrolled": false
   },
   "outputs": [
    {
     "name": "stdout",
     "output_type": "stream",
     "text": [
      "<class 'pandas.core.frame.DataFrame'>\n"
     ]
    },
    {
     "data": {
      "text/html": [
       "<div>\n",
       "<style scoped>\n",
       "    .dataframe tbody tr th:only-of-type {\n",
       "        vertical-align: middle;\n",
       "    }\n",
       "\n",
       "    .dataframe tbody tr th {\n",
       "        vertical-align: top;\n",
       "    }\n",
       "\n",
       "    .dataframe thead th {\n",
       "        text-align: right;\n",
       "    }\n",
       "</style>\n",
       "<table border=\"1\" class=\"dataframe\">\n",
       "  <thead>\n",
       "    <tr style=\"text-align: right;\">\n",
       "      <th></th>\n",
       "      <th>Case</th>\n",
       "      <th>Region</th>\n",
       "      <th>Row</th>\n",
       "      <th>Quantity</th>\n",
       "      <th>Units (unless otherwise specified)</th>\n",
       "      <th>2008</th>\n",
       "      <th>2009</th>\n",
       "      <th>2010</th>\n",
       "      <th>2011</th>\n",
       "      <th>2012</th>\n",
       "      <th>...</th>\n",
       "      <th>2026</th>\n",
       "      <th>2027</th>\n",
       "      <th>2028</th>\n",
       "      <th>2029</th>\n",
       "      <th>2030</th>\n",
       "      <th>2031</th>\n",
       "      <th>2032</th>\n",
       "      <th>2033</th>\n",
       "      <th>2034</th>\n",
       "      <th>2035</th>\n",
       "    </tr>\n",
       "  </thead>\n",
       "  <tbody>\n",
       "    <tr>\n",
       "      <th>3</th>\n",
       "      <td>Reference case</td>\n",
       "      <td>United States</td>\n",
       "      <td>4</td>\n",
       "      <td>Crude Oil and Lease Condensate</td>\n",
       "      <td>quadrillion Btu</td>\n",
       "      <td>10.51</td>\n",
       "      <td>11.34</td>\n",
       "      <td>11.87</td>\n",
       "      <td>11.76</td>\n",
       "      <td>11.58</td>\n",
       "      <td>...</td>\n",
       "      <td>12.50</td>\n",
       "      <td>12.44</td>\n",
       "      <td>12.53</td>\n",
       "      <td>12.48</td>\n",
       "      <td>12.49</td>\n",
       "      <td>12.63</td>\n",
       "      <td>12.91</td>\n",
       "      <td>13.01</td>\n",
       "      <td>13.04</td>\n",
       "      <td>12.80</td>\n",
       "    </tr>\n",
       "    <tr>\n",
       "      <th>4</th>\n",
       "      <td>Reference case</td>\n",
       "      <td>United States</td>\n",
       "      <td>5</td>\n",
       "      <td>Natural Gas Plant Liquids</td>\n",
       "      <td>quadrillion Btu</td>\n",
       "      <td>2.41</td>\n",
       "      <td>2.57</td>\n",
       "      <td>2.64</td>\n",
       "      <td>2.63</td>\n",
       "      <td>2.76</td>\n",
       "      <td>...</td>\n",
       "      <td>3.57</td>\n",
       "      <td>3.61</td>\n",
       "      <td>3.65</td>\n",
       "      <td>3.67</td>\n",
       "      <td>3.71</td>\n",
       "      <td>3.75</td>\n",
       "      <td>3.78</td>\n",
       "      <td>3.82</td>\n",
       "      <td>3.86</td>\n",
       "      <td>3.92</td>\n",
       "    </tr>\n",
       "    <tr>\n",
       "      <th>5</th>\n",
       "      <td>Reference case</td>\n",
       "      <td>United States</td>\n",
       "      <td>6</td>\n",
       "      <td>Dry Natural Gas</td>\n",
       "      <td>quadrillion Btu</td>\n",
       "      <td>20.83</td>\n",
       "      <td>21.50</td>\n",
       "      <td>21.83</td>\n",
       "      <td>21.61</td>\n",
       "      <td>21.83</td>\n",
       "      <td>...</td>\n",
       "      <td>24.70</td>\n",
       "      <td>24.92</td>\n",
       "      <td>25.21</td>\n",
       "      <td>25.47</td>\n",
       "      <td>25.75</td>\n",
       "      <td>26.02</td>\n",
       "      <td>26.22</td>\n",
       "      <td>26.42</td>\n",
       "      <td>26.67</td>\n",
       "      <td>27.00</td>\n",
       "    </tr>\n",
       "    <tr>\n",
       "      <th>6</th>\n",
       "      <td>Reference case</td>\n",
       "      <td>United States</td>\n",
       "      <td>7</td>\n",
       "      <td>Coal</td>\n",
       "      <td>quadrillion Btu</td>\n",
       "      <td>23.85</td>\n",
       "      <td>21.58</td>\n",
       "      <td>22.59</td>\n",
       "      <td>21.75</td>\n",
       "      <td>21.39</td>\n",
       "      <td>...</td>\n",
       "      <td>23.95</td>\n",
       "      <td>24.05</td>\n",
       "      <td>24.40</td>\n",
       "      <td>24.53</td>\n",
       "      <td>24.77</td>\n",
       "      <td>24.96</td>\n",
       "      <td>25.21</td>\n",
       "      <td>25.45</td>\n",
       "      <td>25.72</td>\n",
       "      <td>26.01</td>\n",
       "    </tr>\n",
       "    <tr>\n",
       "      <th>7</th>\n",
       "      <td>Reference case</td>\n",
       "      <td>United States</td>\n",
       "      <td>8</td>\n",
       "      <td>Nuclear Power</td>\n",
       "      <td>quadrillion Btu</td>\n",
       "      <td>8.43</td>\n",
       "      <td>8.35</td>\n",
       "      <td>8.39</td>\n",
       "      <td>8.40</td>\n",
       "      <td>8.50</td>\n",
       "      <td>...</td>\n",
       "      <td>9.17</td>\n",
       "      <td>9.17</td>\n",
       "      <td>9.17</td>\n",
       "      <td>9.17</td>\n",
       "      <td>9.17</td>\n",
       "      <td>9.17</td>\n",
       "      <td>9.16</td>\n",
       "      <td>9.16</td>\n",
       "      <td>9.15</td>\n",
       "      <td>9.14</td>\n",
       "    </tr>\n",
       "  </tbody>\n",
       "</table>\n",
       "<p>5 rows × 33 columns</p>\n",
       "</div>"
      ],
      "text/plain": [
       "             Case         Region  Row                           Quantity  \\\n",
       "3  Reference case  United States    4     Crude Oil and Lease Condensate   \n",
       "4  Reference case  United States    5          Natural Gas Plant Liquids   \n",
       "5  Reference case  United States    6                    Dry Natural Gas   \n",
       "6  Reference case  United States    7                               Coal   \n",
       "7  Reference case  United States    8                      Nuclear Power   \n",
       "\n",
       "  Units (unless otherwise specified)   2008   2009   2010   2011   2012  \\\n",
       "3                    quadrillion Btu  10.51  11.34  11.87  11.76  11.58   \n",
       "4                    quadrillion Btu   2.41   2.57   2.64   2.63   2.76   \n",
       "5                    quadrillion Btu  20.83  21.50  21.83  21.61  21.83   \n",
       "6                    quadrillion Btu  23.85  21.58  22.59  21.75  21.39   \n",
       "7                    quadrillion Btu   8.43   8.35   8.39   8.40   8.50   \n",
       "\n",
       "   ...     2026   2027   2028   2029   2030   2031   2032   2033   2034   2035  \n",
       "3  ...    12.50  12.44  12.53  12.48  12.49  12.63  12.91  13.01  13.04  12.80  \n",
       "4  ...     3.57   3.61   3.65   3.67   3.71   3.75   3.78   3.82   3.86   3.92  \n",
       "5  ...    24.70  24.92  25.21  25.47  25.75  26.02  26.22  26.42  26.67  27.00  \n",
       "6  ...    23.95  24.05  24.40  24.53  24.77  24.96  25.21  25.45  25.72  26.01  \n",
       "7  ...     9.17   9.17   9.17   9.17   9.17   9.17   9.16   9.16   9.15   9.14  \n",
       "\n",
       "[5 rows x 33 columns]"
      ]
     },
     "execution_count": 33,
     "metadata": {},
     "output_type": "execute_result"
    }
   ],
   "source": [
    "import pandas as pd\n",
    "\n",
    "econtable = pd.read_csv('data/1-AEO2011.csv',header=0)\n",
    "print(type(econtable))\n",
    "econtable = econtable.iloc[3:,2:].dropna() #drop the rows with NAs\n",
    "econtable.head()"
   ]
  },
  {
   "cell_type": "code",
   "execution_count": 34,
   "metadata": {},
   "outputs": [
    {
     "data": {
      "text/plain": [
       "{'High economic growth',\n",
       " 'High oil price',\n",
       " 'Low economic growth',\n",
       " 'Low oil price',\n",
       " 'Reference case'}"
      ]
     },
     "execution_count": 34,
     "metadata": {},
     "output_type": "execute_result"
    }
   ],
   "source": [
    "econtable.shape\n",
    "set(econtable['Case']) #the unique Cases in the table"
   ]
  },
  {
   "cell_type": "code",
   "execution_count": 35,
   "metadata": {},
   "outputs": [
    {
     "name": "stdout",
     "output_type": "stream",
     "text": [
      "<class 'pandas.io.parsers.TextFileReader'>\n"
     ]
    }
   ],
   "source": [
    "## We can read the table in chunks, the following will produce an iterator called the TextFileReader\n",
    "econtable = pd.read_csv('data/1-AEO2011.csv',header=0,chunksize=10)\n",
    "print(type(econtable))"
   ]
  },
  {
   "cell_type": "code",
   "execution_count": 36,
   "metadata": {
    "collapsed": true
   },
   "outputs": [],
   "source": [
    "## As an iterator, we can call next\n",
    "table = next(econtable)"
   ]
  },
  {
   "cell_type": "code",
   "execution_count": 37,
   "metadata": {},
   "outputs": [
    {
     "name": "stdout",
     "output_type": "stream",
     "text": [
      "<class 'pandas.core.frame.DataFrame'>\n"
     ]
    },
    {
     "data": {
      "text/html": [
       "<div>\n",
       "<style scoped>\n",
       "    .dataframe tbody tr th:only-of-type {\n",
       "        vertical-align: middle;\n",
       "    }\n",
       "\n",
       "    .dataframe tbody tr th {\n",
       "        vertical-align: top;\n",
       "    }\n",
       "\n",
       "    .dataframe thead th {\n",
       "        text-align: right;\n",
       "    }\n",
       "</style>\n",
       "<table border=\"1\" class=\"dataframe\">\n",
       "  <thead>\n",
       "    <tr style=\"text-align: right;\">\n",
       "      <th></th>\n",
       "      <th>1-AEO2011</th>\n",
       "      <th>Unnamed: 1</th>\n",
       "      <th>Case</th>\n",
       "      <th>Region</th>\n",
       "      <th>Row</th>\n",
       "      <th>Quantity</th>\n",
       "      <th>Units (unless otherwise specified)</th>\n",
       "      <th>2008</th>\n",
       "      <th>2009</th>\n",
       "      <th>2010</th>\n",
       "      <th>...</th>\n",
       "      <th>2026</th>\n",
       "      <th>2027</th>\n",
       "      <th>2028</th>\n",
       "      <th>2029</th>\n",
       "      <th>2030</th>\n",
       "      <th>2031</th>\n",
       "      <th>2032</th>\n",
       "      <th>2033</th>\n",
       "      <th>2034</th>\n",
       "      <th>2035</th>\n",
       "    </tr>\n",
       "  </thead>\n",
       "  <tbody>\n",
       "    <tr>\n",
       "      <th>0</th>\n",
       "      <td>Table 1</td>\n",
       "      <td>Total Energy Supply, Disposition, and Price Su...</td>\n",
       "      <td>Reference case</td>\n",
       "      <td>United States</td>\n",
       "      <td>1</td>\n",
       "      <td>Total Energy Supply, Disposition, and Price Su...</td>\n",
       "      <td>NaN</td>\n",
       "      <td>NaN</td>\n",
       "      <td>NaN</td>\n",
       "      <td>NaN</td>\n",
       "      <td>...</td>\n",
       "      <td>NaN</td>\n",
       "      <td>NaN</td>\n",
       "      <td>NaN</td>\n",
       "      <td>NaN</td>\n",
       "      <td>NaN</td>\n",
       "      <td>NaN</td>\n",
       "      <td>NaN</td>\n",
       "      <td>NaN</td>\n",
       "      <td>NaN</td>\n",
       "      <td>NaN</td>\n",
       "    </tr>\n",
       "    <tr>\n",
       "      <th>1</th>\n",
       "      <td>NaN</td>\n",
       "      <td>NaN</td>\n",
       "      <td>Reference case</td>\n",
       "      <td>United States</td>\n",
       "      <td>2</td>\n",
       "      <td>(quadrillion Btu, unless otherwise noted)</td>\n",
       "      <td>NaN</td>\n",
       "      <td>NaN</td>\n",
       "      <td>NaN</td>\n",
       "      <td>NaN</td>\n",
       "      <td>...</td>\n",
       "      <td>NaN</td>\n",
       "      <td>NaN</td>\n",
       "      <td>NaN</td>\n",
       "      <td>NaN</td>\n",
       "      <td>NaN</td>\n",
       "      <td>NaN</td>\n",
       "      <td>NaN</td>\n",
       "      <td>NaN</td>\n",
       "      <td>NaN</td>\n",
       "      <td>NaN</td>\n",
       "    </tr>\n",
       "    <tr>\n",
       "      <th>2</th>\n",
       "      <td>NaN</td>\n",
       "      <td>NaN</td>\n",
       "      <td>Reference case</td>\n",
       "      <td>United States</td>\n",
       "      <td>3</td>\n",
       "      <td>Production</td>\n",
       "      <td>NaN</td>\n",
       "      <td>NaN</td>\n",
       "      <td>NaN</td>\n",
       "      <td>NaN</td>\n",
       "      <td>...</td>\n",
       "      <td>NaN</td>\n",
       "      <td>NaN</td>\n",
       "      <td>NaN</td>\n",
       "      <td>NaN</td>\n",
       "      <td>NaN</td>\n",
       "      <td>NaN</td>\n",
       "      <td>NaN</td>\n",
       "      <td>NaN</td>\n",
       "      <td>NaN</td>\n",
       "      <td>NaN</td>\n",
       "    </tr>\n",
       "    <tr>\n",
       "      <th>3</th>\n",
       "      <td>NaN</td>\n",
       "      <td>NaN</td>\n",
       "      <td>Reference case</td>\n",
       "      <td>United States</td>\n",
       "      <td>4</td>\n",
       "      <td>Crude Oil and Lease Condensate</td>\n",
       "      <td>quadrillion Btu</td>\n",
       "      <td>10.51</td>\n",
       "      <td>11.34</td>\n",
       "      <td>11.87</td>\n",
       "      <td>...</td>\n",
       "      <td>12.50</td>\n",
       "      <td>12.44</td>\n",
       "      <td>12.53</td>\n",
       "      <td>12.48</td>\n",
       "      <td>12.49</td>\n",
       "      <td>12.63</td>\n",
       "      <td>12.91</td>\n",
       "      <td>13.01</td>\n",
       "      <td>13.04</td>\n",
       "      <td>12.80</td>\n",
       "    </tr>\n",
       "    <tr>\n",
       "      <th>4</th>\n",
       "      <td>NaN</td>\n",
       "      <td>NaN</td>\n",
       "      <td>Reference case</td>\n",
       "      <td>United States</td>\n",
       "      <td>5</td>\n",
       "      <td>Natural Gas Plant Liquids</td>\n",
       "      <td>quadrillion Btu</td>\n",
       "      <td>2.41</td>\n",
       "      <td>2.57</td>\n",
       "      <td>2.64</td>\n",
       "      <td>...</td>\n",
       "      <td>3.57</td>\n",
       "      <td>3.61</td>\n",
       "      <td>3.65</td>\n",
       "      <td>3.67</td>\n",
       "      <td>3.71</td>\n",
       "      <td>3.75</td>\n",
       "      <td>3.78</td>\n",
       "      <td>3.82</td>\n",
       "      <td>3.86</td>\n",
       "      <td>3.92</td>\n",
       "    </tr>\n",
       "  </tbody>\n",
       "</table>\n",
       "<p>5 rows × 35 columns</p>\n",
       "</div>"
      ],
      "text/plain": [
       "  1-AEO2011                                         Unnamed: 1  \\\n",
       "0   Table 1  Total Energy Supply, Disposition, and Price Su...   \n",
       "1       NaN                                                NaN   \n",
       "2       NaN                                                NaN   \n",
       "3       NaN                                                NaN   \n",
       "4       NaN                                                NaN   \n",
       "\n",
       "             Case         Region  Row  \\\n",
       "0  Reference case  United States    1   \n",
       "1  Reference case  United States    2   \n",
       "2  Reference case  United States    3   \n",
       "3  Reference case  United States    4   \n",
       "4  Reference case  United States    5   \n",
       "\n",
       "                                            Quantity  \\\n",
       "0  Total Energy Supply, Disposition, and Price Su...   \n",
       "1          (quadrillion Btu, unless otherwise noted)   \n",
       "2                                         Production   \n",
       "3                     Crude Oil and Lease Condensate   \n",
       "4                          Natural Gas Plant Liquids   \n",
       "\n",
       "  Units (unless otherwise specified)   2008   2009   2010  ...     2026  \\\n",
       "0                                NaN    NaN    NaN    NaN  ...      NaN   \n",
       "1                                NaN    NaN    NaN    NaN  ...      NaN   \n",
       "2                                NaN    NaN    NaN    NaN  ...      NaN   \n",
       "3                    quadrillion Btu  10.51  11.34  11.87  ...    12.50   \n",
       "4                    quadrillion Btu   2.41   2.57   2.64  ...     3.57   \n",
       "\n",
       "    2027   2028   2029   2030   2031   2032   2033   2034   2035  \n",
       "0    NaN    NaN    NaN    NaN    NaN    NaN    NaN    NaN    NaN  \n",
       "1    NaN    NaN    NaN    NaN    NaN    NaN    NaN    NaN    NaN  \n",
       "2    NaN    NaN    NaN    NaN    NaN    NaN    NaN    NaN    NaN  \n",
       "3  12.44  12.53  12.48  12.49  12.63  12.91  13.01  13.04  12.80  \n",
       "4   3.61   3.65   3.67   3.71   3.75   3.78   3.82   3.86   3.92  \n",
       "\n",
       "[5 rows x 35 columns]"
      ]
     },
     "execution_count": 37,
     "metadata": {},
     "output_type": "execute_result"
    }
   ],
   "source": [
    "## It produces a DataFrame, of shape chunksize x p (p is the number of variables in the table)\n",
    "print(type(table))\n",
    "table.head()"
   ]
  },
  {
   "cell_type": "markdown",
   "metadata": {},
   "source": [
    "## Reading in chunks with pandas\n",
    "\n",
    "The previous code read in all of the data, and then we could do something with it.  Pandas gives an easy way to read the data in chunks that we can process in sequence.  I'll be taking the mean of the whole dataset."
   ]
  },
  {
   "cell_type": "code",
   "execution_count": 38,
   "metadata": {
    "collapsed": true
   },
   "outputs": [],
   "source": [
    "import numpy as np # I'll use numpy for np.array"
   ]
  },
  {
   "cell_type": "code",
   "execution_count": 39,
   "metadata": {},
   "outputs": [],
   "source": [
    "## Alternatively we can read the data in chunks\n",
    "econreader = pd.read_csv('data/1-AEO2011.csv',header=0,chunksize=10)\n",
    "Esum, n = np.sum(np.array([et.sum(), et.shape[0]]) for et in econreader) ## Sum arrays with this genexp"
   ]
  },
  {
   "cell_type": "code",
   "execution_count": 41,
   "metadata": {},
   "outputs": [
    {
     "ename": "StopIteration",
     "evalue": "",
     "output_type": "error",
     "traceback": [
      "\u001b[1;31m---------------------------------------------------------------------------\u001b[0m",
      "\u001b[1;31mStopIteration\u001b[0m                             Traceback (most recent call last)",
      "\u001b[1;32m<ipython-input-41-90bc6f37ebd3>\u001b[0m in \u001b[0;36m<module>\u001b[1;34m()\u001b[0m\n\u001b[1;32m----> 1\u001b[1;33m \u001b[0met\u001b[0m\u001b[1;33m=\u001b[0m\u001b[0mnext\u001b[0m\u001b[1;33m(\u001b[0m\u001b[0meconreader\u001b[0m\u001b[1;33m)\u001b[0m\u001b[1;33m\u001b[0m\u001b[0m\n\u001b[0m",
      "\u001b[1;32m~\\Anaconda3\\lib\\site-packages\\pandas\\io\\parsers.py\u001b[0m in \u001b[0;36m__next__\u001b[1;34m(self)\u001b[0m\n\u001b[0;32m   1040\u001b[0m     \u001b[1;32mdef\u001b[0m \u001b[0m__next__\u001b[0m\u001b[1;33m(\u001b[0m\u001b[0mself\u001b[0m\u001b[1;33m)\u001b[0m\u001b[1;33m:\u001b[0m\u001b[1;33m\u001b[0m\u001b[0m\n\u001b[0;32m   1041\u001b[0m         \u001b[1;32mtry\u001b[0m\u001b[1;33m:\u001b[0m\u001b[1;33m\u001b[0m\u001b[0m\n\u001b[1;32m-> 1042\u001b[1;33m             \u001b[1;32mreturn\u001b[0m \u001b[0mself\u001b[0m\u001b[1;33m.\u001b[0m\u001b[0mget_chunk\u001b[0m\u001b[1;33m(\u001b[0m\u001b[1;33m)\u001b[0m\u001b[1;33m\u001b[0m\u001b[0m\n\u001b[0m\u001b[0;32m   1043\u001b[0m         \u001b[1;32mexcept\u001b[0m \u001b[0mStopIteration\u001b[0m\u001b[1;33m:\u001b[0m\u001b[1;33m\u001b[0m\u001b[0m\n\u001b[0;32m   1044\u001b[0m             \u001b[0mself\u001b[0m\u001b[1;33m.\u001b[0m\u001b[0mclose\u001b[0m\u001b[1;33m(\u001b[0m\u001b[1;33m)\u001b[0m\u001b[1;33m\u001b[0m\u001b[0m\n",
      "\u001b[1;32m~\\Anaconda3\\lib\\site-packages\\pandas\\io\\parsers.py\u001b[0m in \u001b[0;36mget_chunk\u001b[1;34m(self, size)\u001b[0m\n\u001b[0;32m   1104\u001b[0m                 \u001b[1;32mraise\u001b[0m \u001b[0mStopIteration\u001b[0m\u001b[1;33m\u001b[0m\u001b[0m\n\u001b[0;32m   1105\u001b[0m             \u001b[0msize\u001b[0m \u001b[1;33m=\u001b[0m \u001b[0mmin\u001b[0m\u001b[1;33m(\u001b[0m\u001b[0msize\u001b[0m\u001b[1;33m,\u001b[0m \u001b[0mself\u001b[0m\u001b[1;33m.\u001b[0m\u001b[0mnrows\u001b[0m \u001b[1;33m-\u001b[0m \u001b[0mself\u001b[0m\u001b[1;33m.\u001b[0m\u001b[0m_currow\u001b[0m\u001b[1;33m)\u001b[0m\u001b[1;33m\u001b[0m\u001b[0m\n\u001b[1;32m-> 1106\u001b[1;33m         \u001b[1;32mreturn\u001b[0m \u001b[0mself\u001b[0m\u001b[1;33m.\u001b[0m\u001b[0mread\u001b[0m\u001b[1;33m(\u001b[0m\u001b[0mnrows\u001b[0m\u001b[1;33m=\u001b[0m\u001b[0msize\u001b[0m\u001b[1;33m)\u001b[0m\u001b[1;33m\u001b[0m\u001b[0m\n\u001b[0m\u001b[0;32m   1107\u001b[0m \u001b[1;33m\u001b[0m\u001b[0m\n\u001b[0;32m   1108\u001b[0m \u001b[1;33m\u001b[0m\u001b[0m\n",
      "\u001b[1;32m~\\Anaconda3\\lib\\site-packages\\pandas\\io\\parsers.py\u001b[0m in \u001b[0;36mread\u001b[1;34m(self, nrows)\u001b[0m\n\u001b[0;32m   1067\u001b[0m                 \u001b[1;32mraise\u001b[0m \u001b[0mValueError\u001b[0m\u001b[1;33m(\u001b[0m\u001b[1;34m'skipfooter not supported for iteration'\u001b[0m\u001b[1;33m)\u001b[0m\u001b[1;33m\u001b[0m\u001b[0m\n\u001b[0;32m   1068\u001b[0m \u001b[1;33m\u001b[0m\u001b[0m\n\u001b[1;32m-> 1069\u001b[1;33m         \u001b[0mret\u001b[0m \u001b[1;33m=\u001b[0m \u001b[0mself\u001b[0m\u001b[1;33m.\u001b[0m\u001b[0m_engine\u001b[0m\u001b[1;33m.\u001b[0m\u001b[0mread\u001b[0m\u001b[1;33m(\u001b[0m\u001b[0mnrows\u001b[0m\u001b[1;33m)\u001b[0m\u001b[1;33m\u001b[0m\u001b[0m\n\u001b[0m\u001b[0;32m   1070\u001b[0m \u001b[1;33m\u001b[0m\u001b[0m\n\u001b[0;32m   1071\u001b[0m         \u001b[1;32mif\u001b[0m \u001b[0mself\u001b[0m\u001b[1;33m.\u001b[0m\u001b[0moptions\u001b[0m\u001b[1;33m.\u001b[0m\u001b[0mget\u001b[0m\u001b[1;33m(\u001b[0m\u001b[1;34m'as_recarray'\u001b[0m\u001b[1;33m)\u001b[0m\u001b[1;33m:\u001b[0m\u001b[1;33m\u001b[0m\u001b[0m\n",
      "\u001b[1;32m~\\Anaconda3\\lib\\site-packages\\pandas\\io\\parsers.py\u001b[0m in \u001b[0;36mread\u001b[1;34m(self, nrows)\u001b[0m\n\u001b[0;32m   1837\u001b[0m     \u001b[1;32mdef\u001b[0m \u001b[0mread\u001b[0m\u001b[1;33m(\u001b[0m\u001b[0mself\u001b[0m\u001b[1;33m,\u001b[0m \u001b[0mnrows\u001b[0m\u001b[1;33m=\u001b[0m\u001b[1;32mNone\u001b[0m\u001b[1;33m)\u001b[0m\u001b[1;33m:\u001b[0m\u001b[1;33m\u001b[0m\u001b[0m\n\u001b[0;32m   1838\u001b[0m         \u001b[1;32mtry\u001b[0m\u001b[1;33m:\u001b[0m\u001b[1;33m\u001b[0m\u001b[0m\n\u001b[1;32m-> 1839\u001b[1;33m             \u001b[0mdata\u001b[0m \u001b[1;33m=\u001b[0m \u001b[0mself\u001b[0m\u001b[1;33m.\u001b[0m\u001b[0m_reader\u001b[0m\u001b[1;33m.\u001b[0m\u001b[0mread\u001b[0m\u001b[1;33m(\u001b[0m\u001b[0mnrows\u001b[0m\u001b[1;33m)\u001b[0m\u001b[1;33m\u001b[0m\u001b[0m\n\u001b[0m\u001b[0;32m   1840\u001b[0m         \u001b[1;32mexcept\u001b[0m \u001b[0mStopIteration\u001b[0m\u001b[1;33m:\u001b[0m\u001b[1;33m\u001b[0m\u001b[0m\n\u001b[0;32m   1841\u001b[0m             \u001b[1;32mif\u001b[0m \u001b[0mself\u001b[0m\u001b[1;33m.\u001b[0m\u001b[0m_first_chunk\u001b[0m\u001b[1;33m:\u001b[0m\u001b[1;33m\u001b[0m\u001b[0m\n",
      "\u001b[1;32mpandas/_libs/parsers.pyx\u001b[0m in \u001b[0;36mpandas._libs.parsers.TextReader.read\u001b[1;34m()\u001b[0m\n",
      "\u001b[1;32mpandas/_libs/parsers.pyx\u001b[0m in \u001b[0;36mpandas._libs.parsers.TextReader._read_low_memory\u001b[1;34m()\u001b[0m\n",
      "\u001b[1;31mStopIteration\u001b[0m: "
     ]
    }
   ],
   "source": [
    "et=next(econreader)"
   ]
  },
  {
   "cell_type": "code",
   "execution_count": 20,
   "metadata": {
    "collapsed": true
   },
   "outputs": [],
   "source": [
    "econmean = Esum / n ## Calculate the mean"
   ]
  },
  {
   "cell_type": "code",
   "execution_count": 22,
   "metadata": {},
   "outputs": [
    {
     "name": "stdout",
     "output_type": "stream",
     "text": [
      "1-AEO2011                                 NaN\n",
      "2008                                  17.9125\n",
      "2009                                  14.4231\n",
      "2010                                  16.0162\n",
      "2011                                  16.4398\n",
      "2012                                   16.742\n",
      "2013                                   17.127\n",
      "2014                                    17.41\n",
      "2015                                  17.7537\n",
      "2016                                  18.0941\n",
      "2017                                  18.4604\n",
      "2018                                  18.8288\n",
      "2019                                  19.1982\n",
      "2020                                  19.5986\n",
      "2021                                  19.9517\n",
      "2022                                   20.298\n",
      "2023                                  20.6516\n",
      "2024                                  20.9878\n",
      "2025                                  21.3221\n",
      "2026                                  21.6338\n",
      "2027                                  21.9346\n",
      "2028                                  22.2316\n",
      "2029                                  22.5189\n",
      "2030                                  22.8065\n",
      "2031                                  23.1114\n",
      "2032                                  23.4175\n",
      "2033                                  23.6841\n",
      "2034                                   23.947\n",
      "2035                                  24.2185\n",
      "Case                                      NaN\n",
      "Quantity                                  NaN\n",
      "Region                                    NaN\n",
      "Row                                        27\n",
      "Units (unless otherwise specified)        NaN\n",
      "Unnamed: 1                                NaN\n",
      "dtype: object\n"
     ]
    }
   ],
   "source": [
    "print(econmean)"
   ]
  }
 ],
 "metadata": {
  "kernelspec": {
   "display_name": "Python 3",
   "language": "python",
   "name": "python3"
  },
  "language_info": {
   "codemirror_mode": {
    "name": "ipython",
    "version": 3
   },
   "file_extension": ".py",
   "mimetype": "text/x-python",
   "name": "python",
   "nbconvert_exporter": "python",
   "pygments_lexer": "ipython3",
   "version": "3.6.4"
  }
 },
 "nbformat": 4,
 "nbformat_minor": 1
}
