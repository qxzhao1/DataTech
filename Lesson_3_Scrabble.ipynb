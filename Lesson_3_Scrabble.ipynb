{
 "cells": [
  {
   "cell_type": "markdown",
   "metadata": {},
   "source": [
    "## Longest ordered word\n",
    "\n",
    "My friend Susie asked on facebook \"what is the longest word that is in order? where in order means that each letter comes after the previous one alphabetically.\"\n",
    "\n",
    "Some references that I used are \n",
    "- https://docs.python.org/3/library/functions.html\n",
    "- http://www.grantjenks.com/docs/sortedcontainers/"
   ]
  },
  {
   "cell_type": "code",
   "execution_count": 4,
   "metadata": {},
   "outputs": [
    {
     "name": "stdout",
     "output_type": "stream",
     "text": [
      " Volume in drive C is Windows\n",
      " Volume Serial Number is DC59-1644\n",
      "\n",
      " Directory of C:\\Users\\qxzhao\\Documents\\GitHub\\DataTech\\notebooks\n",
      "\n",
      "02/07/2018  12:24 PM    <DIR>          .\n",
      "02/07/2018  12:24 PM    <DIR>          ..\n",
      "02/07/2018  12:24 PM    <DIR>          .ipynb_checkpoints\n",
      "01/31/2018  04:27 PM    <DIR>          data\n",
      "02/07/2018  12:10 PM            40,763 Lesson_1_Workflow.ipynb\n",
      "01/31/2018  04:30 PM           819,052 Lesson_10_Notebook.ipynb\n",
      "01/17/2018  04:13 PM             5,805 Lesson_2_Workflow2.ipynb\n",
      "02/07/2018  12:24 PM             8,245 Lesson_3_Python_Basics.ipynb\n",
      "01/21/2018  11:23 AM            16,348 Lesson_3_Scrabble.ipynb\n",
      "01/20/2018  03:30 PM            14,087 Lesson_4_lab.ipynb\n",
      "01/30/2018  05:00 PM            15,132 Lesson_4_Python_Advanced.ipynb\n",
      "01/24/2018  04:18 PM            25,441 Lesson_5_Notebook.ipynb\n",
      "01/24/2018  04:18 PM             2,607 Lesson_5_Numpy.ipynb\n",
      "01/24/2018  04:53 PM            35,494 Lesson_6_Notebook.ipynb\n",
      "01/24/2018  04:21 PM             4,681 Lesson_6_Reading_Data.ipynb\n",
      "01/26/2018  11:58 PM           896,783 Lesson_7_Notebook.ipynb\n",
      "01/24/2018  04:18 PM            61,228 Lesson_7_Plotting_Basics.ipynb\n",
      "01/31/2018  04:53 PM           387,792 Lesson_8_Notebook.ipynb\n",
      "01/29/2018  04:16 PM             4,922 Lesson_8_Pandas.ipynb\n",
      "01/31/2018  04:29 PM             4,488 Lesson_9_Pandas_2.ipynb\n",
      "01/17/2018  04:13 PM             4,324 proc_scrabble.ipynb\n",
      "              17 File(s)      2,347,192 bytes\n",
      "               4 Dir(s)  415,707,320,320 bytes free\n"
     ]
    }
   ],
   "source": [
    "%ls\n",
    "# list the directory - magic command"
   ]
  },
  {
   "cell_type": "code",
   "execution_count": 5,
   "metadata": {},
   "outputs": [
    {
     "name": "stdout",
     "output_type": "stream",
     "text": [
      " Volume in drive C is Windows\n",
      " Volume Serial Number is DC59-1644\n",
      "\n",
      " Directory of C:\\Users\\qxzhao\\Documents\\GitHub\\DataTech\\notebooks\\data\n",
      "\n",
      "01/31/2018  04:27 PM    <DIR>          .\n",
      "01/31/2018  04:27 PM    <DIR>          ..\n",
      "01/24/2018  04:18 PM            56,022 1-AEO2011.csv\n",
      "01/31/2018  04:27 PM            10,089 OHmachines.xlsx\n",
      "01/31/2018  04:27 PM         1,016,921 OHvotes.csv\n",
      "01/24/2018  04:18 PM             9,509 seeds_dataset.txt\n",
      "01/17/2018  04:13 PM         2,974,765 sowpods.txt\n",
      "               5 File(s)      4,067,306 bytes\n",
      "               2 Dir(s)  415,707,303,936 bytes free\n"
     ]
    }
   ],
   "source": [
    "%ls data \n",
    "# here's the file that I want"
   ]
  },
  {
   "cell_type": "code",
   "execution_count": 6,
   "metadata": {},
   "outputs": [
    {
     "name": "stderr",
     "output_type": "stream",
     "text": [
      "'head' is not recognized as an internal or external command,\n",
      "operable program or batch file.\n"
     ]
    }
   ],
   "source": [
    "!head data/sowpods.txt"
   ]
  },
  {
   "cell_type": "code",
   "execution_count": 7,
   "metadata": {
    "collapsed": true
   },
   "outputs": [],
   "source": [
    "def read_dictionary(filename=\"data/sowpods.txt\"):\n",
    "    \"\"\"create a list of words in the scrabble dictionary\"\"\"\n",
    "    with open(filename,'r') as scrabblefile:\n",
    "        scrabble_dict = [word.strip() for word in scrabblefile]\n",
    "    return(scrabble_dict)"
   ]
  },
  {
   "cell_type": "code",
   "execution_count": 8,
   "metadata": {
    "collapsed": true
   },
   "outputs": [],
   "source": [
    "scrabble_dict = read_dictionary()"
   ]
  },
  {
   "cell_type": "code",
   "execution_count": 9,
   "metadata": {},
   "outputs": [
    {
     "name": "stdout",
     "output_type": "stream",
     "text": [
      "['AA', 'AAH', 'AAHED', 'AAHING', 'AAHS', 'AAL', 'AALII', 'AALIIS', 'AALS', 'AARDVARK']\n"
     ]
    }
   ],
   "source": [
    "print(scrabble_dict[:10])"
   ]
  },
  {
   "cell_type": "code",
   "execution_count": 10,
   "metadata": {},
   "outputs": [
    {
     "data": {
      "text/plain": [
       "['AARDVARKS', 'AALS', 'AALII', 'AAHS', 'AAHED']"
      ]
     },
     "execution_count": 10,
     "metadata": {},
     "output_type": "execute_result"
    }
   ],
   "source": [
    "scrabble_dict[10:0:-2]"
   ]
  },
  {
   "cell_type": "code",
   "execution_count": 11,
   "metadata": {},
   "outputs": [
    {
     "name": "stdout",
     "output_type": "stream",
     "text": [
      "ACCESSORIZING\n"
     ]
    }
   ],
   "source": [
    "tw = scrabble_dict[1111]\n",
    "print(tw)"
   ]
  },
  {
   "cell_type": "code",
   "execution_count": 12,
   "metadata": {
    "collapsed": true
   },
   "outputs": [],
   "source": [
    "## Practice with above word"
   ]
  },
  {
   "cell_type": "code",
   "execution_count": 13,
   "metadata": {},
   "outputs": [
    {
     "data": {
      "text/plain": [
       "False"
      ]
     },
     "execution_count": 13,
     "metadata": {},
     "output_type": "execute_result"
    }
   ],
   "source": [
    "'d' < 'c'"
   ]
  },
  {
   "cell_type": "code",
   "execution_count": 14,
   "metadata": {
    "collapsed": true
   },
   "outputs": [],
   "source": [
    "def is_in_order(word):\n",
    "    \"\"\"return a true if the word is in order\"\"\"\n",
    "    witer = iter(word)\n",
    "    lettera = next(witer)\n",
    "    for letterb in witer:\n",
    "        if lettera > letterb:\n",
    "            return False\n",
    "        lettera = letterb\n",
    "    return True"
   ]
  },
  {
   "cell_type": "code",
   "execution_count": 15,
   "metadata": {},
   "outputs": [
    {
     "data": {
      "text/plain": [
       "False"
      ]
     },
     "execution_count": 15,
     "metadata": {},
     "output_type": "execute_result"
    }
   ],
   "source": [
    "is_in_order(tw)"
   ]
  },
  {
   "cell_type": "code",
   "execution_count": 16,
   "metadata": {
    "collapsed": true
   },
   "outputs": [],
   "source": [
    "wi = iter(tw)"
   ]
  },
  {
   "cell_type": "code",
   "execution_count": 17,
   "metadata": {},
   "outputs": [
    {
     "data": {
      "text/plain": [
       "'A'"
      ]
     },
     "execution_count": 17,
     "metadata": {},
     "output_type": "execute_result"
    }
   ],
   "source": [
    "next(wi)"
   ]
  },
  {
   "cell_type": "code",
   "execution_count": 18,
   "metadata": {
    "collapsed": true
   },
   "outputs": [],
   "source": [
    "def longest_word(scrabble_dict):\n",
    "    \"\"\"Returns all of the longest ordered words in the scrabble dictionary\"\"\"\n",
    "    curr_len = 0\n",
    "    for word in scrabble_dict:\n",
    "        if is_in_order(word):\n",
    "            wl = len(word)\n",
    "            if wl > curr_len:\n",
    "                curr_len = wl\n",
    "                word_list = [word]\n",
    "            if wl==curr_len:\n",
    "                word_list.append(word)\n",
    "    return word_list"
   ]
  },
  {
   "cell_type": "code",
   "execution_count": 19,
   "metadata": {},
   "outputs": [
    {
     "data": {
      "text/plain": [
       "['ADDEEMS', 'ADDEEMS', 'BEEFILY', 'BILLOWY', 'CHIKORS', 'DIKKOPS', 'GIMMORS']"
      ]
     },
     "execution_count": 19,
     "metadata": {},
     "output_type": "execute_result"
    }
   ],
   "source": [
    "longest_word(scrabble_dict)"
   ]
  },
  {
   "cell_type": "code",
   "execution_count": 20,
   "metadata": {
    "collapsed": true
   },
   "outputs": [],
   "source": [
    "#Why do we make doc strings?\n",
    "longest_word?"
   ]
  },
  {
   "cell_type": "markdown",
   "metadata": {},
   "source": [
    "## Unique letters: list comprehensions, dictionaries, sets"
   ]
  },
  {
   "cell_type": "code",
   "execution_count": 21,
   "metadata": {},
   "outputs": [
    {
     "data": {
      "text/plain": [
       "{'A', 'D', 'H', 'K', 'V'}"
      ]
     },
     "execution_count": 21,
     "metadata": {},
     "output_type": "execute_result"
    }
   ],
   "source": [
    "set(\"AAHDVAHK\")"
   ]
  },
  {
   "cell_type": "code",
   "execution_count": 22,
   "metadata": {},
   "outputs": [
    {
     "name": "stdout",
     "output_type": "stream",
     "text": [
      "360 ms ± 27.8 ms per loop (mean ± std. dev. of 7 runs, 1 loop each)\n"
     ]
    }
   ],
   "source": [
    "%%timeit\n",
    "scrabble_sets = [] # construct word sets\n",
    "for word in scrabble_dict:\n",
    "    scrabble_sets.append(set(word))"
   ]
  },
  {
   "cell_type": "code",
   "execution_count": 30,
   "metadata": {},
   "outputs": [
    {
     "name": "stdout",
     "output_type": "stream",
     "text": [
      "309 ms ± 34.3 ms per loop (mean ± std. dev. of 7 runs, 1 loop each)\n"
     ]
    }
   ],
   "source": [
    "%%timeit\n",
    "scrabble_sets = [set(word) for word in scrabble_dict]"
   ]
  },
  {
   "cell_type": "code",
   "execution_count": 31,
   "metadata": {},
   "outputs": [
    {
     "ename": "NameError",
     "evalue": "name 'scrabble_sets' is not defined",
     "output_type": "error",
     "traceback": [
      "\u001b[1;31m---------------------------------------------------------------------------\u001b[0m",
      "\u001b[1;31mNameError\u001b[0m                                 Traceback (most recent call last)",
      "\u001b[1;32m<ipython-input-31-2681d52021e1>\u001b[0m in \u001b[0;36m<module>\u001b[1;34m()\u001b[0m\n\u001b[0;32m      3\u001b[0m \u001b[1;32mfrom\u001b[0m \u001b[0mmath\u001b[0m \u001b[1;32mimport\u001b[0m \u001b[0mlog\u001b[0m\u001b[1;33m\u001b[0m\u001b[0m\n\u001b[0;32m      4\u001b[0m \u001b[1;33m\u001b[0m\u001b[0m\n\u001b[1;32m----> 5\u001b[1;33m \u001b[0mws_lens\u001b[0m \u001b[1;33m=\u001b[0m \u001b[0marray\u001b[0m\u001b[1;33m(\u001b[0m\u001b[1;34m'i'\u001b[0m\u001b[1;33m,\u001b[0m\u001b[1;33m(\u001b[0m\u001b[0mlen\u001b[0m\u001b[1;33m(\u001b[0m\u001b[0mws\u001b[0m\u001b[1;33m)\u001b[0m \u001b[1;32mfor\u001b[0m \u001b[0mws\u001b[0m \u001b[1;32min\u001b[0m \u001b[0mscrabble_sets\u001b[0m\u001b[1;33m)\u001b[0m\u001b[1;33m)\u001b[0m \u001b[1;31m#Initialize the array with a gen expr\u001b[0m\u001b[1;33m\u001b[0m\u001b[0m\n\u001b[0m\u001b[0;32m      6\u001b[0m \u001b[0mn\u001b[0m \u001b[1;33m=\u001b[0m \u001b[0mlen\u001b[0m\u001b[1;33m(\u001b[0m\u001b[0mscrabble_sets\u001b[0m\u001b[1;33m)\u001b[0m\u001b[1;33m\u001b[0m\u001b[0m\n",
      "\u001b[1;31mNameError\u001b[0m: name 'scrabble_sets' is not defined"
     ]
    }
   ],
   "source": [
    "#Let's look at the array object, which is a more compact list for certain immutable types\n",
    "from array import array\n",
    "from math import log\n",
    "\n",
    "ws_lens = array('i',(len(ws) for ws in scrabble_sets)) #Initialize the array with a gen expr\n",
    "n = len(scrabble_sets)"
   ]
  },
  {
   "cell_type": "code",
   "execution_count": 55,
   "metadata": {},
   "outputs": [
    {
     "data": {
      "text/plain": [
       "267751"
      ]
     },
     "execution_count": 55,
     "metadata": {},
     "output_type": "execute_result"
    }
   ],
   "source": [
    "n"
   ]
  },
  {
   "cell_type": "code",
   "execution_count": 56,
   "metadata": {},
   "outputs": [
    {
     "data": {
      "text/plain": [
       "267751"
      ]
     },
     "execution_count": 56,
     "metadata": {},
     "output_type": "execute_result"
    }
   ],
   "source": [
    "len(ws_lens)"
   ]
  },
  {
   "cell_type": "code",
   "execution_count": 57,
   "metadata": {
    "collapsed": true
   },
   "outputs": [],
   "source": [
    "# Counting the number occurances of each unique letter number in each word\n",
    "lens = [0]*20\n",
    "for l in ws_lens:\n",
    "    lens[l-1] += 1"
   ]
  },
  {
   "cell_type": "code",
   "execution_count": 58,
   "metadata": {},
   "outputs": [
    {
     "data": {
      "text/plain": [
       "[5,\n",
       " 347,\n",
       " 3002,\n",
       " 11852,\n",
       " 27695,\n",
       " 46474,\n",
       " 57964,\n",
       " 52950,\n",
       " 37879,\n",
       " 19927,\n",
       " 7559,\n",
       " 1843,\n",
       " 233,\n",
       " 19,\n",
       " 2,\n",
       " 0,\n",
       " 0,\n",
       " 0,\n",
       " 0,\n",
       " 0]"
      ]
     },
     "execution_count": 58,
     "metadata": {},
     "output_type": "execute_result"
    }
   ],
   "source": [
    "lens"
   ]
  },
  {
   "cell_type": "code",
   "execution_count": null,
   "metadata": {
    "collapsed": true
   },
   "outputs": [],
   "source": [
    "Counter(ws_lens)"
   ]
  },
  {
   "cell_type": "code",
   "execution_count": 39,
   "metadata": {
    "collapsed": true
   },
   "outputs": [],
   "source": [
    "#Is there a better way using Counter?\n",
    "from collections import Counter\n",
    "Counter.__init__?"
   ]
  },
  {
   "cell_type": "code",
   "execution_count": 43,
   "metadata": {},
   "outputs": [
    {
     "data": {
      "text/plain": [
       "Counter({1: 2, 2: 3, 3: 1})"
      ]
     },
     "execution_count": 43,
     "metadata": {},
     "output_type": "execute_result"
    }
   ],
   "source": [
    "a = Counter([1,2,1])\n",
    "b = Counter([2,3,2])\n",
    "sum([a,b],Counter())"
   ]
  },
  {
   "cell_type": "code",
   "execution_count": 59,
   "metadata": {
    "collapsed": true
   },
   "outputs": [],
   "source": [
    "word_lens = Counter(ws_lens)"
   ]
  },
  {
   "cell_type": "code",
   "execution_count": 60,
   "metadata": {},
   "outputs": [
    {
     "data": {
      "text/plain": [
       "Counter({1: 5,\n",
       "         2: 347,\n",
       "         3: 3002,\n",
       "         4: 11852,\n",
       "         5: 27695,\n",
       "         6: 46474,\n",
       "         7: 57964,\n",
       "         8: 52950,\n",
       "         9: 37879,\n",
       "         10: 19927,\n",
       "         11: 7559,\n",
       "         12: 1843,\n",
       "         13: 233,\n",
       "         14: 19,\n",
       "         15: 2})"
      ]
     },
     "execution_count": 60,
     "metadata": {},
     "output_type": "execute_result"
    }
   ],
   "source": [
    "word_lens"
   ]
  },
  {
   "cell_type": "code",
   "execution_count": 46,
   "metadata": {},
   "outputs": [
    {
     "name": "stdout",
     "output_type": "stream",
     "text": [
      "0: > 1\n",
      "1: -> 2\n",
      "2: -> 4\n",
      "3: --> 5\n",
      "4: -> 3\n",
      "5: --> 6\n",
      "6: --> 7\n",
      "7: --> 9\n",
      "8: --> 8\n",
      "9: --> 10\n",
      "10: --> 12\n",
      "11: --> 11\n",
      "12: ---> 13\n",
      "13: ---> 14\n",
      "14: ---> 15\n"
     ]
    }
   ],
   "source": [
    "#Let's explore iterables!  Print \n",
    "I = iter(range(len(word_lens)))\n",
    "for l in word_lens:\n",
    "    i = next(I)\n",
    "    if l > 0:\n",
    "        print(\"{}: {}> {}\".format(i,\"-\"*round(log(l)),l))"
   ]
  },
  {
   "cell_type": "code",
   "execution_count": null,
   "metadata": {
    "collapsed": true
   },
   "outputs": [],
   "source": [
    "# What is the more succinct way to do this with enumerate!"
   ]
  },
  {
   "cell_type": "code",
   "execution_count": 18,
   "metadata": {
    "collapsed": true
   },
   "outputs": [],
   "source": [
    "# I want to look up the number of unique letters in a word in O(1) time, how can I do this? "
   ]
  },
  {
   "cell_type": "code",
   "execution_count": null,
   "metadata": {
    "collapsed": true
   },
   "outputs": [],
   "source": [
    "# Similarity between words?"
   ]
  },
  {
   "cell_type": "code",
   "execution_count": 47,
   "metadata": {},
   "outputs": [
    {
     "data": {
      "text/plain": [
       "10"
      ]
     },
     "execution_count": 47,
     "metadata": {},
     "output_type": "execute_result"
    }
   ],
   "source": [
    "ws_lens[1111]"
   ]
  },
  {
   "cell_type": "code",
   "execution_count": 48,
   "metadata": {},
   "outputs": [
    {
     "data": {
      "text/plain": [
       "'ACCESSORIZING'"
      ]
     },
     "execution_count": 48,
     "metadata": {},
     "output_type": "execute_result"
    }
   ],
   "source": [
    "scrabble_dict[1111]"
   ]
  },
  {
   "cell_type": "markdown",
   "metadata": {},
   "source": [
    "## Hash table and dictionaries\n",
    "<img src=\"https://upload.wikimedia.org/wikipedia/commons/thumb/d/d0/Hash_table_5_0_1_1_1_1_1_LL.svg/450px-Hash_table_5_0_1_1_1_1_1_LL.svg.png\">"
   ]
  },
  {
   "cell_type": "code",
   "execution_count": 49,
   "metadata": {
    "collapsed": true
   },
   "outputs": [],
   "source": [
    "ind_dict = {word: i for i, word in enumerate(scrabble_dict)}"
   ]
  },
  {
   "cell_type": "code",
   "execution_count": 52,
   "metadata": {},
   "outputs": [
    {
     "name": "stdout",
     "output_type": "stream",
     "text": [
      "The slowest run took 63.08 times longer than the fastest. This could mean that an intermediate result is being cached.\n",
      "10000000 loops, best of 3: 113 ns per loop\n"
     ]
    }
   ],
   "source": [
    "%%timeit \n",
    "ind_dict['ACCESSORIZING']"
   ]
  },
  {
   "cell_type": "code",
   "execution_count": 53,
   "metadata": {},
   "outputs": [
    {
     "name": "stdout",
     "output_type": "stream",
     "text": [
      "10000 loops, best of 3: 25.7 µs per loop\n"
     ]
    }
   ],
   "source": [
    "%%timeit\n",
    "scrabble_dict.index('ACCESSORIZING')"
   ]
  },
  {
   "cell_type": "code",
   "execution_count": 54,
   "metadata": {},
   "outputs": [
    {
     "data": {
      "text/plain": [
       "922876837765020496"
      ]
     },
     "execution_count": 54,
     "metadata": {},
     "output_type": "execute_result"
    }
   ],
   "source": [
    "hash('ACCESSORIZING')"
   ]
  },
  {
   "cell_type": "code",
   "execution_count": 1,
   "metadata": {
    "collapsed": true
   },
   "outputs": [],
   "source": [
    "# Example of hash"
   ]
  },
  {
   "cell_type": "markdown",
   "metadata": {},
   "source": [
    "## B tree and bisection\n",
    "<img src=\"http://btechsmartclass.com/DS/images/B-Tree%20Example.jpg\">"
   ]
  },
  {
   "cell_type": "code",
   "execution_count": 2,
   "metadata": {
    "collapsed": true
   },
   "outputs": [],
   "source": [
    "# Sorted lists (binary bisection)\n",
    "from sortedcontainers import SortedList"
   ]
  },
  {
   "cell_type": "code",
   "execution_count": 3,
   "metadata": {},
   "outputs": [
    {
     "ename": "NameError",
     "evalue": "name 'scrabble_dict' is not defined",
     "output_type": "error",
     "traceback": [
      "\u001b[1;31m---------------------------------------------------------------------------\u001b[0m",
      "\u001b[1;31mNameError\u001b[0m                                 Traceback (most recent call last)",
      "\u001b[1;32m<ipython-input-3-6463c73953b7>\u001b[0m in \u001b[0;36m<module>\u001b[1;34m()\u001b[0m\n\u001b[1;32m----> 1\u001b[1;33m \u001b[0msorted_scrabble\u001b[0m \u001b[1;33m=\u001b[0m \u001b[0mSortedList\u001b[0m\u001b[1;33m(\u001b[0m\u001b[0mscrabble_dict\u001b[0m\u001b[1;33m)\u001b[0m\u001b[1;33m\u001b[0m\u001b[0m\n\u001b[0m",
      "\u001b[1;31mNameError\u001b[0m: name 'scrabble_dict' is not defined"
     ]
    }
   ],
   "source": [
    "sorted_scrabble = SortedList(scrabble_dict)"
   ]
  },
  {
   "cell_type": "code",
   "execution_count": 21,
   "metadata": {},
   "outputs": [
    {
     "data": {
      "text/plain": [
       "108281"
      ]
     },
     "execution_count": 21,
     "metadata": {},
     "output_type": "execute_result"
    }
   ],
   "source": [
    "sorted_scrabble.bisect('HUMIDIFIER')"
   ]
  },
  {
   "cell_type": "code",
   "execution_count": null,
   "metadata": {
    "collapsed": true
   },
   "outputs": [],
   "source": [
    "Z"
   ]
  }
 ],
 "metadata": {
  "kernelspec": {
   "display_name": "Python 3",
   "language": "python",
   "name": "python3"
  },
  "language_info": {
   "codemirror_mode": {
    "name": "ipython",
    "version": 3
   },
   "file_extension": ".py",
   "mimetype": "text/x-python",
   "name": "python",
   "nbconvert_exporter": "python",
   "pygments_lexer": "ipython3",
   "version": "3.6.4"
  }
 },
 "nbformat": 4,
 "nbformat_minor": 2
}
